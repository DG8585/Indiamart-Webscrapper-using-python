{
 "cells": [
  {
   "cell_type": "markdown",
   "metadata": {},
   "source": [
    "# Part 1"
   ]
  },
  {
   "cell_type": "markdown",
   "metadata": {},
   "source": [
    "#### Run the code in parts "
   ]
  },
  {
   "cell_type": "code",
   "execution_count": 74,
   "metadata": {
    "scrolled": false
   },
   "outputs": [
    {
     "name": "stderr",
     "output_type": "stream",
     "text": [
      "[WDM] - Current google-chrome version is 87.0.4280\n",
      "[WDM] - Get LATEST driver version for 87.0.4280\n",
      "[WDM] - Driver [C:\\Users\\Deepanshu\\.wdm\\drivers\\chromedriver\\win32\\87.0.4280.88\\chromedriver.exe] found in cache\n"
     ]
    },
    {
     "name": "stdout",
     "output_type": "stream",
     "text": [
      " \n"
     ]
    }
   ],
   "source": [
    "#Install libraries\n",
    "from selenium import webdriver \n",
    "from webdriver_manager.chrome import ChromeDriverManager \n",
    "driver = webdriver.Chrome(ChromeDriverManager().install()) \n",
    "from selenium.webdriver.support import expected_conditions as EC\n",
    "from selenium.webdriver.common.by import By\n",
    "from selenium.webdriver.support.ui import WebDriverWait as wait\n",
    "import pandas as pd \n",
    "import time \n",
    "import os "
   ]
  },
  {
   "cell_type": "markdown",
   "metadata": {},
   "source": [
    "## Getting the URL"
   ]
  },
  {
   "cell_type": "code",
   "execution_count": 50,
   "metadata": {},
   "outputs": [],
   "source": [
    "driver.get(\"https://dir.indiamart.com/search.mp?ss=masks\") "
   ]
  },
  {
   "cell_type": "markdown",
   "metadata": {},
   "source": [
    "## Paste the URL above after entering your product in the search bar and run the Part 1 of code.\n",
    "\n",
    "### New webpage will open up in another window\n",
    "\n",
    "#### - Scroll the page down till 'Show More Results' and click on the button\n",
    "#### - Now Login to allow the access and enter the OTP\n",
    "\n",
    "## - Come back to the code and run the below lines of code again"
   ]
  },
  {
   "cell_type": "markdown",
   "metadata": {},
   "source": [
    "   # Part 2"
   ]
  },
  {
   "cell_type": "code",
   "execution_count": 51,
   "metadata": {},
   "outputs": [
    {
     "name": "stdout",
     "output_type": "stream",
     "text": [
      "Web page Loading\n",
      "Web page Loading\n",
      "Web page Loading\n",
      "Web page Loading\n",
      "Web page Loading\n",
      "Web page Loading\n",
      "Web page Loading\n",
      "Web page Loading\n",
      "Message: \n",
      "\n",
      "Complete\n"
     ]
    }
   ],
   "source": [
    "while True:\n",
    "    try:\n",
    "        showmore = wait(driver, 10).until(EC.element_to_be_clickable((By.XPATH, \"//span[text()=' Show More Results ']\")))\n",
    "        time.sleep(2)\n",
    "        showmore.click()\n",
    "        time.sleep(5)\n",
    "        print('Web page Loading')\n",
    "    except Exception as e:\n",
    "        print(e)\n",
    "        break\n",
    "print(\"Complete\")\n",
    "time.sleep(10)\n"
   ]
  },
  {
   "cell_type": "code",
   "execution_count": 52,
   "metadata": {
    "scrolled": true
   },
   "outputs": [
    {
     "name": "stdout",
     "output_type": "stream",
     "text": [
      "https://www.indiamart.com/proddetail/wildcraft-hypa-shield-w95-dust-protection-mask-22256775888.html?pos=1&kwd=masks&tags=%7CPL%7C%7C%7C7867.1333%7CPrice%7Cproduct\n",
      "https://www.indiamart.com/proddetail/black-wildcraft-hypa-shield-w95-reusable-outdoor-protection-mask-22238400133.html?pos=1.1&kwd=masks&tags=A%7CPL%7C%7C%7C7867.1333%7CPrice%7Cproduct\n",
      "https://www.indiamart.com/proddetail/black-wildcraft-hypa-shield-w95-reusable-protection-mask-22256741573.html?pos=1.2&kwd=masks&tags=A%7CPL%7C%7C%7C7867.1333%7CPrice%7Cproduct\n",
      "https://www.indiamart.com/proddetail/cotton-face-mask-22394507562.html?pos=2&kwd=masks&tags=A%7C%7C%7C%7C8042.3813%7CPrice%7Cproxy\n",
      "https://www.indiamart.com/proddetail/reusable-washable-cotton-face-mask-number-of-layers-2-22394492297.html?pos=2.1&kwd=masks&tags=A%7C%7C%7C%7C8042.3813%7CPrice%7Cproduct\n",
      "https://www.indiamart.com/proddetail/reusable-corona-virus-cotton-face-mask-number-of-layers-2-22304388130.html?pos=2.2&kwd=masks&tags=A%7C%7C%7C%7C8042.3813%7CPrice%7Cproduct\n",
      "https://www.indiamart.com/proddetail/reusable-double-layer-cotton-face-mask-number-of-layers-2-22394480830.html?pos=2.3&kwd=masks&tags=A%7C%7C%7C%7C8042.3813%7CPrice%7Cproduct\n",
      "https://www.indiamart.com/proddetail/earloop-masks-22422168330.html?pos=3&kwd=masks&tags=A%7C%7C%7C%7C8190.9683%7CPrice%7Cproduct\n",
      "https://www.indiamart.com/proddetail/hosiery-mask-22276141930.html?pos=4&kwd=masks&tags=A%7C%7C%7C%7C7613.566%7CPrice%7Cproxy\n",
      "https://www.indiamart.com/proddetail/multicolor-hosiery-mask-22200327448.html?pos=4.1&kwd=masks&tags=A%7C%7C%7C%7C7613.566%7CPrice%7Cproduct\n",
      "https://www.indiamart.com/proddetail/asiapacific-n95-mask-22305293812.html?pos=5&kwd=masks&tags=A%7C%7C%7C%7C8227.221%7CPrice%7Cproxy\n",
      "https://www.indiamart.com/proddetail/black-water-repellent-washable-reusable-face-mask-polyester-spandex-material-3-layered-22433946162.html?pos=6&kwd=masks&tags=A%7C%7C%7C%7C7533.29%7C%7Cproxy\n",
      "https://www.indiamart.com/proddetail/face-mask-s-m-l-size-washable-reusable-3-layered-baby-blue-baby-pink-color-22312200097.html?pos=6.1&kwd=masks&tags=A%7C%7C%7C%7C7533.29%7C%7Cproduct\n",
      "https://www.indiamart.com/proddetail/face-shield-technical-data-sheet-face-protection-shield-face-visor-22298730812.html?pos=6.2&kwd=masks&tags=%7C%7C%7C%7C7533.29%7C%7Cproduct\n",
      "https://www.indiamart.com/proddetail/ipl-mask-1-layer-mask-22642411348.html?pos=7&kwd=masks&tags=A%7C%7C%7C%7C7533.29%7CPrice%7Cproxy\n",
      "https://www.indiamart.com/proddetail/ipl-mask-ich-22642469655.html?pos=7.1&kwd=masks&tags=A%7C%7C%7C%7C7533.29%7CPrice%7Cproduct\n",
      "https://www.indiamart.com/proddetail/5-printed-cotton-face-mask-killer-mask-pack-22294834088.html?pos=8&kwd=masks&tags=A%7C%7C%7C%7C7533.29%7CPrice%7Cproxy\n",
      "https://www.indiamart.com/proddetail/branded-reusable-cotton-face-mask-killer-brand-number-of-layers-3-22511203912.html?pos=8.1&kwd=masks&tags=A%7C%7C%7C%7C7533.29%7CPrice%7Cproduct\n",
      "https://www.indiamart.com/proddetail/reusable-face-mask-killer-protector-3-layer-mask-pack-of-3-pcs-17755495130.html?pos=8.2&kwd=masks&tags=A%7C%7C%7C%7C7533.29%7CPrice%7Cproduct\n",
      "https://www.indiamart.com/proddetail/cosmus-cotton-reusable-face-mask-number-of-layers-3-16873647630.html?pos=8.3&kwd=masks&tags=A%7C%7C%7C%7C7533.29%7CPrice%7Cproduct\n",
      "https://www.indiamart.com/proddetail/2-layer-washable-masks-22738014591.html?pos=9&kwd=masks&tags=A%7C%7C%7C%7C8132.985%7CPrice%7Cproxy\n",
      "https://www.indiamart.com/proddetail/sublimation-masks-22452983297.html?pos=10&kwd=masks&tags=A%7C%7C%7C%7C8132.985%7CPrice%7Cproxy\n",
      "https://www.indiamart.com/proddetail/m-size-falcon-protection-mask-22531148930.html?pos=11&kwd=masks&tags=A%7C%7C%7C%7C7584.552%7C%7Cproxy\n",
      "https://www.indiamart.com/proddetail/m-size-falcon-army-green-mask-22574661933.html?pos=11.1&kwd=masks&tags=A%7C%7C%7C%7C7584.552%7C%7Cproduct\n",
      "https://www.indiamart.com/proddetail/l-size-snow-white-mask-22576227312.html?pos=11.2&kwd=masks&tags=A%7C%7C%7C%7C7584.552%7C%7Cproduct\n",
      "https://www.indiamart.com/proddetail/reusable-wildcraft-face-mask-number-of-layers-8-layer-22577893697.html?pos=11.3&kwd=masks&tags=A%7C%7C%7C%7C7584.552%7C%7Cproduct\n",
      "https://www.indiamart.com/proddetail/surgical-disposable-masks-8123996562.html?pos=12&kwd=masks&tags=A%7C%7C%7C%7C7533.29%7CPrice%7Cproxy\n",
      "https://www.indiamart.com/proddetail/classik-reusable-multicolour-n95-facemasks-certification-ce-iso-22763086030.html?pos=12.1&kwd=masks&tags=A%7C%7C%7C%7C7533.29%7CPrice%7Cproduct\n",
      "https://www.indiamart.com/proddetail/washable-and-reusable-fancy-face-mask-number-of-layers-2-3-22407553473.html?pos=12.2&kwd=masks&tags=A%7C%7C%7C%7C7533.29%7CPrice%7Cproduct\n",
      "https://www.indiamart.com/proddetail/disposable-classik-n95-premium-face-mask-certification-ce-iso-22639614512.html?pos=12.3&kwd=masks&tags=%7C%7C%7C%7C7533.29%7CPrice%7Cproduct\n",
      "https://www.indiamart.com/proddetail/reusable-face-mask-22365982755.html?pos=13&kwd=masks&tags=A%7C%7C%7C%7C7533.29%7CPrice%7Cproxy\n",
      "https://www.indiamart.com/proddetail/viva-non-woven-face-mask-number-of-layers-3-22365972330.html?pos=13.1&kwd=masks&tags=%7C%7C%7C%7C7533.29%7C%7Cproduct\n",
      "https://www.indiamart.com/proddetail/viva-surgical-mask-number-of-layers-5-22365964412.html?pos=13.2&kwd=masks&tags=%7C%7C%7C%7C7533.29%7CPrice%7Cproduct\n",
      "https://www.indiamart.com/proddetail/face-shield-22280301191.html?pos=14&kwd=masks&tags=A%7C%7C%7C%7C7533.29%7CPrice%7Cproxy\n",
      "https://www.indiamart.com/proddetail/flip-top-face-shield-22541245562.html?pos=14.1&kwd=masks&tags=%7C%7C%7C%7C7533.29%7CPrice%7Cproduct\n",
      "https://www.indiamart.com/proddetail/pp-band-face-shield-22541276433.html?pos=14.2&kwd=masks&tags=%7C%7C%7C%7C7533.29%7CPrice%7Cproduct\n",
      "https://www.indiamart.com/proddetail/pp-head-band-face-shield-9-x18-22365069512.html?pos=14.3&kwd=masks&tags=%7C%7C%7C%7C7533.29%7CPrice%7Cproduct\n",
      "https://www.indiamart.com/proddetail/reusable-face-mask-22447687455.html?pos=16&kwd=masks&tags=A%7C%7C%7C%7C7867.1333%7CPrice%7Cproxy\n",
      "https://www.indiamart.com/proddetail/carbonado-reusable-anti-pollution-face-mask-number-of-layers-3-22379570888.html?pos=16.1&kwd=masks&tags=%7C%7C%7C%7C7867.1333%7CPrice%7Cproduct\n",
      "https://www.indiamart.com/proddetail/aerfit-aerfir-disposable-face-mask-22447673797.html?pos=16.2&kwd=masks&tags=%7C%7C%7C%7C7867.1333%7CPrice%7Cproduct\n",
      "https://www.indiamart.com/proddetail/carbonado-anti-pollution-mesh-mask-number-of-layers-3-22257982073.html?pos=16.3&kwd=masks&tags=%7C%7C%7C%7C7867.1333%7CPrice%7Cproduct\n",
      "https://www.indiamart.com/proddetail/reusable-face-mask-dw-protector-22435552997.html?pos=17&kwd=masks&tags=A%7C%7C%7C%7C7813.475%7CPrice%7Cproxy\n",
      "https://www.indiamart.com/proddetail/kz-reusable-face-mask-number-of-layers-3-22409703997.html?pos=17.1&kwd=masks&tags=A%7C%7C%7C%7C7813.475%7CPrice%7Cproduct\n",
      "https://www.indiamart.com/proddetail/pp-non-woven-ear-loop-surgical-masks-for-medical-and-personal-use-22254130597.html?pos=17.2&kwd=masks&tags=A%7C%7C%7C%7C7813.475%7CPrice%7Cproduct\n",
      "https://www.indiamart.com/proddetail/pp-non-woven-ear-loop-mount-3-ply-face-mask-22194757030.html?pos=17.3&kwd=masks&tags=%7C%7C%7C%7C7813.475%7CPrice%7Cproduct\n",
      "https://www.indiamart.com/proddetail/peacock-in-castle-reusable-printed-face-mask-22365943488.html?pos=18&kwd=masks&tags=A%7C%7C%7C%7C8042.3813%7CPrice%7Cproxy\n",
      "https://www.indiamart.com/proddetail/fatfatiya-hand-block-print-reusable-cotton-face-mask-number-of-layers-2-22555360533.html?pos=18.1&kwd=masks&tags=A%7C%7C%7C%7C8042.3813%7CPrice%7Cproduct\n",
      "https://www.indiamart.com/proddetail/fatfatiya-elephant-themed-reusable-printed-face-mask-number-of-layers-3-22374528348.html?pos=18.2&kwd=masks&tags=A%7C%7C%7C%7C8042.3813%7CPrice%7Cproduct\n",
      "https://www.indiamart.com/proddetail/fatfatiya-vintage-car-reusable-printed-face-mask-number-of-layers-3-layer-22489229973.html?pos=18.3&kwd=masks&tags=A%7C%7C%7C%7C8042.3813%7CPrice%7Cproduct\n",
      "https://www.indiamart.com/proddetail/m45k-anti-microbial-safety-face-mask-black-22350046755.html?pos=19&kwd=masks&tags=A%7C%7C%7C%7C7533.29%7CPrice%7Cproxy\n",
      "https://www.indiamart.com/proddetail/reusable-snug-shield-face-mask-number-of-layers-2-22350421148.html?pos=19.1&kwd=masks&tags=A%7C%7C%7C%7C7533.29%7CPrice%7Cproduct\n",
      "https://www.indiamart.com/proddetail/ear-loop-reusable-cotton-face-mask-22242471891.html?pos=19.2&kwd=masks&tags=A%7C%7C%7C%7C7533.29%7CPrice%7Cproduct\n",
      "https://www.indiamart.com/proddetail/original-smiley-brand-reusable-anti-viral-face-mask-with-2-certified-filter-yellow-smiley-22432856073.html?pos=19.3&kwd=masks&tags=A%7C%7C%7C%7C7533.29%7CPrice%7Cproduct\n",
      "https://www.indiamart.com/proddetail/kids-school-childrens-face-mask-22311136812.html?pos=21&kwd=masks&tags=A%7C%7C%7C%7C7813.475%7CPrice%7Cproxy\n",
      "https://www.indiamart.com/proddetail/e-reah-multicolor-bedtime-stories-reusable-cotton-face-mask-for-kids-number-of-layers-2-22380898097.html?pos=21.1&kwd=masks&tags=A%7C%7C%7C%7C7813.475%7CPrice%7Cproduct\n",
      "https://www.indiamart.com/proddetail/e-reah-reusable-kids-face-mask-number-of-layers-2-22380872188.html?pos=21.2&kwd=masks&tags=A%7C%7C%7C%7C7813.475%7CPrice%7Cproduct\n",
      "https://www.indiamart.com/proddetail/reusable-multicolor-kids-sublimation-cotton-face-mask-number-of-layers-2-22386292133.html?pos=21.3&kwd=masks&tags=A%7C%7C%7C%7C7813.475%7CPrice%7Cproduct\n",
      "https://www.indiamart.com/proddetail/reusable-face-mask-22278497662.html?pos=22&kwd=masks&tags=A%7C%7C%7C%7C7867.1333%7CPrice%7Cproxy\n",
      "https://www.indiamart.com/proddetail/mark-me-reusable-3-ply-face-mask-22309225730.html?pos=22.1&kwd=masks&tags=%7C%7C%7C%7C7867.1333%7CPrice%7Cproduct\n",
      "https://www.indiamart.com/proddetail/mark-me-reusable-face-mask-number-of-layers-6-layer-22428040988.html?pos=22.2&kwd=masks&tags=%7C%7C%7C%7C7867.1333%7CPrice%7Cproduct\n",
      "https://www.indiamart.com/proddetail/kids-mask-n95-22394674162.html?pos=23&kwd=masks&tags=A%7C%7C%7C%7C8227.221%7CPrice%7Cproxy\n",
      "https://www.indiamart.com/proddetail/reusable-mix-cotton-face-mask-number-of-layers-two-layers-22550411062.html?pos=23.1&kwd=masks&tags=%7C%7C%7C%7C8227.221%7CPrice%7Cproduct\n",
      "https://www.indiamart.com/proddetail/reusable-mix-cotton-face-mask-number-of-layers-two-layers-22550397712.html?pos=23.2&kwd=masks&tags=%7C%7C%7C%7C8227.221%7CPrice%7Cproduct\n",
      "https://www.indiamart.com/proddetail/printed-face-mask-22664798148.html?pos=24&kwd=masks&tags=A%7C%7C%7C%7C8132.985%7CPrice%7Cproxy\n",
      "https://www.indiamart.com/proddetail/accusafe-reusable-kids-face-mask-certification-sitra-number-of-layers-3-22557460233.html?pos=24.1&kwd=masks&tags=%7C%7C%7C%7C8132.985%7CPrice%7Cproduct\n",
      "https://www.indiamart.com/proddetail/customized-reusable-cloth-face-mask-adjustable-ear-loop-removable-filter-22556091262.html?pos=24.2&kwd=masks&tags=A%7C%7C%7C%7C8132.985%7CPrice%7Cproduct\n",
      "https://www.indiamart.com/proddetail/reusable-cloth-face-mask-adjustable-ear-loops-replaceable-filter-sitra-tested-22521638655.html?pos=24.3&kwd=masks&tags=A%7C%7C%7C%7C8132.985%7CPrice%7Cproduct\n",
      "https://www.indiamart.com/proddetail/mask-raw-material-22607070197.html?pos=25&kwd=masks&tags=A%7C%7C%7C%7C7423.2134%7C%7Cproxy\n",
      "https://www.indiamart.com/proddetail/3-layer-cotton-mask-22701640955.html?pos=27&kwd=masks&tags=A%7C%7C%7C%7C8211.605%7CPrice%7Cproxy\n",
      "https://www.indiamart.com/proddetail/reusable-n95-face-mask-22317196573.html?pos=27.1&kwd=masks&tags=%7C%7C%7C%7C8211.605%7CPrice%7Cproduct\n",
      "https://www.indiamart.com/proddetail/reusable-white-luxurious-cotton-mask-number-of-layers-3-22794525088.html?pos=27.2&kwd=masks&tags=A%7C%7C%7C%7C8211.605%7CPrice%7Cproduct\n",
      "https://www.indiamart.com/proddetail/reusable-earloop-n95-mask-number-of-layers-5-layers-certification-en149-ffp2-22291167188.html?pos=27.3&kwd=masks&tags=%7C%7C%7C%7C8211.605%7CPrice%7Cproduct\n",
      "https://www.indiamart.com/proddetail/reusable-face-mask-22284996688.html?pos=28&kwd=masks&tags=A%7C%7C%7C%7C7613.566%7CPrice%7Cproxy\n",
      "https://www.indiamart.com/proddetail/double-layer-washable-mask-22428540412.html?pos=28.1&kwd=masks&tags=A%7C%7C%7C%7C7613.566%7CPrice%7Cproduct\n",
      "https://www.indiamart.com/proddetail/reusable-face-mask-22297033255.html?pos=28.2&kwd=masks&tags=A%7C%7C%7C%7C7613.566%7CPrice%7Cproduct\n",
      "https://www.indiamart.com/proddetail/american-crew-reusable-3-ply-face-mask-black-mesh-22665458655.html?pos=28.3&kwd=masks&tags=A%7C%7C%7C%7C7613.566%7CPrice%7Cproduct\n",
      "https://www.indiamart.com/proddetail/semi-cotton-fabrics-22310554855.html?pos=29&kwd=masks&tags=A%7C%7C%7C%7C7584.552%7CPrice%7Cproxy\n",
      "https://www.indiamart.com/proddetail/n95-face-mask-22428463697.html?pos=30&kwd=masks&tags=A%7C%7C%7C%7C8293.604%7CPrice%7Cproxy\n",
      "https://www.indiamart.com/proddetail/premium-cotton-face-masks-22943051148.html?pos=31&kwd=masks&tags=A%7C%7C%7C%7C7918.6953%7CPrice%7Cproxy\n",
      "https://www.indiamart.com/proddetail/n95-mask-face-mask-ayurvedic-mask-turmeric-mask-22584458648.html?pos=32&kwd=masks&tags=A%7C%7C%7C%7C7584.552%7CPrice%7Cproduct\n",
      "https://www.indiamart.com/proddetail/be-reusable-corona-mask-ayurvedic-mask-n95-ayurveda-mask-certification-fda-who-gmp-iso-ce-number-of-layers-6-22646245512.html?pos=32.1&kwd=masks&tags=A%7C%7C%7C%7C7584.552%7CPrice%7Cproduct\n",
      "https://www.indiamart.com/proddetail/be-reusable-face-mask-ayurvedic-mask-ayurveda-n95-mask-certification-fda-who-gmp-iso-ce-number-of-layers-6-22645500497.html?pos=32.2&kwd=masks&tags=A%7C%7C%7C%7C7584.552%7CPrice%7Cproduct\n",
      "https://www.indiamart.com/proddetail/be-reusable-herbal-mask-ayurvedic-mask-ayurveda-n95-mask-certification-fda-who-gmp-iso-ce-number-of-layers-6-22645670891.html?pos=32.3&kwd=masks&tags=A%7C%7C%7C%7C7584.552%7CPrice%7Cproduct\n",
      "https://www.indiamart.com/proddetail/embroidery-masks-22590562791.html?pos=33&kwd=masks&tags=A%7C%7C%7C%7C7533.29%7CPrice%7Cproduct\n",
      "https://www.indiamart.com/proddetail/3-ply-disposable-face-mask-22981733748.html?pos=34&kwd=masks&tags=A%7C%7C%7C%7C8038.904%7CPrice%7Cproxy\n",
      "https://www.indiamart.com/proddetail/3-ply-surgical-disposable-face-mask-certification-iso-22989487891.html?pos=34.1&kwd=masks&tags=%7C%7C%7C%7C8038.904%7CPrice%7Cproduct\n",
      "https://www.indiamart.com/proddetail/2-layer-cotton-face-mask-22259971373.html?pos=35&kwd=masks&tags=A%7C%7C%7C%7C8237.176%7CPrice%7Cproxy\n",
      "https://www.indiamart.com/proddetail/isafe-reusable-earloop-cotton-face-mask-22379378048.html?pos=35.1&kwd=masks&tags=A%7C%7C%7C%7C8237.176%7CPrice%7Cproduct\n",
      "https://www.indiamart.com/proddetail/isafe-reusable-printed-earloop-face-mask-22379410691.html?pos=35.2&kwd=masks&tags=A%7C%7C%7C%7C8237.176%7CPrice%7Cproduct\n",
      "https://www.indiamart.com/proddetail/isafe-reusable-cotton-mask-22301577973.html?pos=35.3&kwd=masks&tags=A%7C%7C%7C%7C8237.176%7CPrice%7Cproduct\n",
      "https://www.indiamart.com/proddetail/reusable-face-mask-22628071991.html?pos=36&kwd=masks&tags=A%7C%7C%7C%7C7867.1333%7C%7Cproxy\n",
      "https://www.indiamart.com/proddetail/faursch-reusable-face-mask-certification-sitra-certified-number-of-layers-5-22628225448.html?pos=36.1&kwd=masks&tags=A%7C%7C%7C%7C7867.1333%7C%7Cproduct\n",
      "https://www.indiamart.com/proddetail/faursch-reusable-face-mask-certification-sitra-certified-number-of-layers-5-22627971288.html?pos=36.2&kwd=masks&tags=A%7C%7C%7C%7C7867.1333%7C%7Cproduct\n",
      "https://www.indiamart.com/proddetail/faursch-reusable-face-mask-certification-sitra-certified-number-of-layers-5-22628103433.html?pos=36.3&kwd=masks&tags=A%7C%7C%7C%7C7867.1333%7C%7Cproduct\n",
      "https://www.indiamart.com/proddetail/reusable-face-mask-air-mesh-anti-viral-five-variants-22485557455.html?pos=37&kwd=masks&tags=A%7C%7C%7C%7C7813.475%7CPrice%7Cproxy\n",
      "https://www.indiamart.com/proddetail/lemmon-gross-cotton-polyester-blend-digital-printed-face-mask-for-non-medical-size-5-x9-22372151362.html?pos=37.1&kwd=masks&tags=%7C%7C%7C%7C7813.475%7CPrice%7Cproduct\n",
      "https://www.indiamart.com/proddetail/reusable-mask-22544088697.html?pos=38&kwd=masks&tags=A%7C%7C%7C%7C7423.2134%7CPrice%7Cproduct\n",
      "https://www.indiamart.com/proddetail/pietex-reusable-p95-mask-number-of-layers-7-layers-22634876155.html?pos=38.1&kwd=masks&tags=A%7C%7C%7C%7C7423.2134%7CPrice%7Cproduct\n",
      "https://www.indiamart.com/proddetail/reusable-resusable-p-95-mask-certification-iso-9001-ce-certificate-number-of-layers-7-22627928388.html?pos=38.2&kwd=masks&tags=A%7C%7C%7C%7C7423.2134%7CPrice%7Cproduct\n",
      "https://www.indiamart.com/proddetail/pietex-golden-reusable-face-mask-certification-iso-9001-ce-certificate-number-of-layers-7-22544065073.html?pos=38.3&kwd=masks&tags=A%7C%7C%7C%7C7423.2134%7CPrice%7Cproduct\n",
      "https://www.indiamart.com/proddetail/anti-pollution-masks-21994140991.html?pos=39&kwd=masks&tags=A%7C%7C%7C%7C8227.221%7CPrice%7Cproxy\n",
      "https://www.indiamart.com/proddetail/reusable-n99-cambridge-anti-pollution-face-mask-20917422173.html?pos=39.1&kwd=masks&tags=A%7C%7C%7C%7C8227.221%7CPrice%7Cproduct\n",
      "https://www.indiamart.com/proddetail/cotton-washable-and-reusable-n99-virus-safe-face-mask-22018436891.html?pos=39.2&kwd=masks&tags=A%7C%7C%7C%7C8227.221%7CPrice%7Cproduct\n",
      "https://www.indiamart.com/proddetail/washable-and-reusable-blue-and-black-viral-safe-face-mask-n95-model-name-number-cloth-packaging-type-poly-bag-22018309612.html?pos=39.3&kwd=masks&tags=%7C%7C%7C%7C8227.221%7CPrice%7Cproduct\n",
      "https://www.indiamart.com/proddetail/five-layer-n95-mask-22432330062.html?pos=40&kwd=masks&tags=A%7C%7C%7C%7C8227.221%7CPrice%7Cproxy\n",
      "https://www.indiamart.com/proddetail/fresh-breathe-disposable-face-mask-number-of-layers-5-22432315312.html?pos=40.1&kwd=masks&tags=%7C%7C%7C%7C8227.221%7CPrice%7Cproduct\n",
      "https://www.indiamart.com/proddetail/reusable-n90-kn90-ffp1-mask-number-of-layers-6-22432285148.html?pos=40.2&kwd=masks&tags=%7C%7C%7C%7C8227.221%7CPrice%7Cproduct\n",
      "https://www.indiamart.com/proddetail/high-quality-n95-mask-22540779833.html?pos=40.3&kwd=masks&tags=A%7C%7C%7C%7C8227.221%7CPrice%7Cproduct\n",
      "https://www.indiamart.com/proddetail/zxn-95-cotton-face-masks-22383749148.html?pos=41&kwd=masks&tags=A%7C%7C%7C%7C8258.9375%7CPrice%7Cproduct\n",
      "https://www.indiamart.com/proddetail/zxn-95-reusable-cotton-face-mask-number-of-layers-2-22344218333.html?pos=41.1&kwd=masks&tags=A%7C%7C%7C%7C8258.9375%7CPrice%7Cproduct\n",
      "https://www.indiamart.com/proddetail/n95-mask-22375552112.html?pos=42&kwd=masks&tags=A%7C%7C%7C%7C8227.221%7CPrice%7Cproxy\n",
      "https://www.indiamart.com/proddetail/reusable-n95-face-mask-certification-resgiter-number-of-layers-5-layers-22375548755.html?pos=42.1&kwd=masks&tags=A%7C%7C%7C%7C8227.221%7CPrice%7Cproduct\n",
      "https://www.indiamart.com/proddetail/non-woven-reusable-n-95-face-mask-22594884162.html?pos=42.2&kwd=masks&tags=%7C%7C%7C%7C8227.221%7CPrice%7Cproduct\n",
      "https://www.indiamart.com/proddetail/cotton-masks-22426779348.html?pos=43&kwd=masks&tags=A%7C%7C%7C%7C7867.1333%7CPrice%7Cproduct\n",
      "https://www.indiamart.com/proddetail/n95-mask-22430367848.html?pos=44&kwd=masks&tags=A%7C%7C%7C%7C7584.552%7CPrice%7Cproduct\n",
      "https://www.indiamart.com/proddetail/reusable-ocean-inside-nosepin-n95-5-layer-mask-22421849573.html?pos=44.1&kwd=masks&tags=A%7C%7C%7C%7C7584.552%7CPrice%7Cproduct\n",
      "https://www.indiamart.com/proddetail/medical-use-disposable-3-ply-masks-22296842512.html?pos=45&kwd=masks&tags=A%7C%7C%7C%7C8248.422%7CPrice%7Cproxy\n",
      "https://www.indiamart.com/proddetail/careview-disposable-face-mask-certification-sitra-bis-drde-fda-gmp-ce-iso-number-of-layers-3-layers-22843158130.html?pos=45.1&kwd=masks&tags=%7C%7C%7C%7C8248.422%7C%7Cproduct\n",
      "https://www.indiamart.com/proddetail/kn95-reusable-cv-1221hv-care-view-n95-mask-with-head-loops-and-valve-number-of-layers-6-22296830288.html?pos=45.2&kwd=masks&tags=A%7C%7C%7C%7C8248.422%7CPrice%7Cproduct\n",
      "https://www.indiamart.com/proddetail/reusable-sx-7820v-shield-xtra-n95-mask-with-ear-loops-and-valve-number-of-layers-6-22554340591.html?pos=45.3&kwd=masks&tags=A%7C%7C%7C%7C8248.422%7CPrice%7Cproduct\n",
      "https://www.indiamart.com/proddetail/cotton-face-mask-stripes-design-urban-mask-22906217262.html?pos=46&kwd=masks&tags=A%7C%7C%7C%7C8227.221%7CPrice%7Cproxy\n",
      "https://www.indiamart.com/proddetail/cotton-mask-22605276033.html?pos=47&kwd=masks&tags=A%7C%7C%7C%7C8756.262%7CPrice%7Cproxy\n",
      "https://www.indiamart.com/proddetail/urja-disposable-surgical-masks-number-of-layers-3-22509178333.html?pos=47.1&kwd=masks&tags=%7C%7C%7C%7C8756.262%7CPrice%7Cproduct\n",
      "https://www.indiamart.com/proddetail/urja-reusable-n95-face-mask-certification-nabl-22437036412.html?pos=47.2&kwd=masks&tags=A%7C%7C%7C%7C8756.262%7CPrice%7Cproduct\n",
      "https://www.indiamart.com/proddetail/logo-printed-masks-22392067262.html?pos=48&kwd=masks&tags=A%7C%7C%7C%7C8190.9683%7CPrice%7Cproduct\n",
      "https://www.indiamart.com/proddetail/keshav-reusable-customizable-mask-number-of-layers-2-22361835030.html?pos=48.1&kwd=masks&tags=A%7C%7C%7C%7C8190.9683%7CPrice%7Cproduct\n",
      "https://www.indiamart.com/proddetail/reusable-printed-mask-number-of-layers-2-22326522991.html?pos=48.2&kwd=masks&tags=A%7C%7C%7C%7C8190.9683%7CPrice%7Cproduct\n",
      "https://www.indiamart.com/proddetail/n95-mask-22481254288.html?pos=49&kwd=masks&tags=B%7C%7C%7C%7C8237.176%7CPrice%7Cproduct\n",
      "https://www.indiamart.com/proddetail/future-india-disposable-kn95-mask-22411387097.html?pos=49.1&kwd=masks&tags=B%7C%7C%7C%7C8237.176%7CPrice%7Cproduct\n",
      "https://www.indiamart.com/proddetail/future-india-reusable-n95-mask-with-valve-22481503030.html?pos=49.2&kwd=masks&tags=B%7C%7C%7C%7C8237.176%7CPrice%7Cproduct\n",
      "https://www.indiamart.com/proddetail/future-india-reusable-kn95-face-mask-22481323348.html?pos=49.3&kwd=masks&tags=B%7C%7C%7C%7C8237.176%7CPrice%7Cproduct\n",
      "https://www.indiamart.com/proddetail/n95-mask-without-respirator-22559816188.html?pos=50&kwd=masks&tags=A%7C%7C%7C%7C9120.144%7CPrice%7Cproduct\n",
      "https://www.indiamart.com/proddetail/dr-fresh-reusable-n95-mask-with-nose-pin-22501657430.html?pos=50.1&kwd=masks&tags=A%7C%7C%7C%7C9120.144%7CPrice%7Cproduct\n",
      "https://www.indiamart.com/proddetail/dr-fresh-reusable-n95-face-mask-with-adjusters-22501642033.html?pos=50.2&kwd=masks&tags=A%7C%7C%7C%7C9120.144%7CPrice%7Cproduct\n",
      "https://www.indiamart.com/proddetail/4-layer-kids-cotton-face-mask-22489107712.html?pos=51&kwd=masks&tags=A%7C%7C%7C%7C7867.1333%7CPrice%7Cproxy\n",
      "https://www.indiamart.com/proddetail/reusable-100-silk-face-mask-number-of-layers-3-layer-22474483612.html?pos=51.1&kwd=masks&tags=A%7C%7C%7C%7C7867.1333%7CPrice%7Cproduct\n",
      "https://www.indiamart.com/proddetail/reusable-4-layer-cotton-face-mask-certification-sitra-22489086230.html?pos=51.2&kwd=masks&tags=%7C%7C%7C%7C7867.1333%7CPrice%7Cproduct\n",
      "https://www.indiamart.com/proddetail/reusable-bci-cotton-printed-face-mask-certification-filter-citra-number-of-layers-3-22566384255.html?pos=51.3&kwd=masks&tags=%7C%7C%7C%7C7867.1333%7CPrice%7Cproduct\n",
      "https://www.indiamart.com/proddetail/kids-face-mask-22358263991.html?pos=52&kwd=masks&tags=A%7C%7C%7C%7C7901.175%7CPrice%7Cproxy\n",
      "https://www.indiamart.com/proddetail/skt-reusable-cloth-face-mask-number-of-layers-single-and-double-22306414212.html?pos=52.1&kwd=masks&tags=A%7C%7C%7C%7C7901.175%7CPrice%7Cproduct\n",
      "https://www.indiamart.com/proddetail/skt-reusable-face-mask-number-of-layers-single-22355123188.html?pos=52.2&kwd=masks&tags=A%7C%7C%7C%7C7901.175%7CPrice%7Cproduct\n",
      "https://www.indiamart.com/proddetail/skt-reusable-cotton-mask-number-of-layers-double-22358273830.html?pos=52.3&kwd=masks&tags=A%7C%7C%7C%7C7901.175%7CPrice%7Cproduct\n",
      "https://www.indiamart.com/proddetail/printed-face-masks-22411159912.html?pos=54&kwd=masks&tags=A%7C%7C%7C%7C7774.041%7C%7Cproduct\n",
      "https://www.indiamart.com/proddetail/hindustan-reusable-face-masks-number-of-layers-3-22411126833.html?pos=54.1&kwd=masks&tags=A%7C%7C%7C%7C7774.041%7C%7Cproduct\n",
      "https://www.indiamart.com/proddetail/hindustan-multicolour-reusable-masks-22411108955.html?pos=54.2&kwd=masks&tags=A%7C%7C%7C%7C7774.041%7C%7Cproduct\n",
      "https://www.indiamart.com/proddetail/n95-reusable-mask-certification-iso-certified-number-of-layers-6-layers-22485003630.html\n",
      "https://www.indiamart.com/proddetail/kn95-face-mask-22324537397.html?pos=56&kwd=masks&tags=A%7C%7C%7C%7C8237.176%7CPrice%7Cproxy\n",
      "https://www.indiamart.com/proddetail/personalized-face-masks-22372936288.html?pos=58&kwd=masks&tags=A%7C%7C%7C%7C7584.552%7CPrice%7Cproxy\n",
      "https://www.indiamart.com/proddetail/n95-mask-without-respirator-22525128688.html?pos=60&kwd=masks&tags=A%7C%7C%7C%7C8237.176%7CPrice%7Cproxy\n",
      "https://www.indiamart.com/proddetail/industry-workforce-century-life-care-reusable-cloth-4-layer-mask-22339036855.html?pos=61&kwd=masks&tags=A%7C%7C%7C%7C8248.422%7CPrice%7Cproxy\n",
      "https://www.indiamart.com/proddetail/century-life-care-reusable-n95-face-mask-clc10022-certification-iso-fda-22367524533.html?pos=61.1&kwd=masks&tags=A%7C%7C%7C%7C8248.422%7CPrice%7Cproduct\n",
      "https://www.indiamart.com/proddetail/century-life-care-reusable-n95-mask-clc10019-certification-iso-fda-22367515733.html?pos=61.2&kwd=masks&tags=A%7C%7C%7C%7C8248.422%7CPrice%7Cproduct\n",
      "https://www.indiamart.com/proddetail/century-life-care-reusable-n95-mask-clc10020-certification-iso-fda-22367518497.html?pos=61.3&kwd=masks&tags=A%7C%7C%7C%7C8248.422%7CPrice%7Cproduct\n",
      "https://www.indiamart.com/proddetail/3ply-facs-mask-with-nose-pin-with-ultrasonic-22897579873.html?pos=63&kwd=masks&tags=A%7C%7C%7C%7C8435.058%7CPrice%7Cproxy\n",
      "https://www.indiamart.com/proddetail/3-layer-reusable-washable-cotton-mask-22464875848.html?pos=64&kwd=masks&tags=A%7C%7C%7C%7C8227.221%7CPrice%7Cproxy\n",
      "https://www.indiamart.com/proddetail/reusable-3-layer-cotton-washable-breathable-face-mask-22343164462.html?pos=64.1&kwd=masks&tags=B%7C%7C%7C%7C8227.221%7CPrice%7Cproduct\n",
      "https://www.indiamart.com/proddetail/3-layer-reusable-washable-face-mask-22343182112.html?pos=64.2&kwd=masks&tags=B%7C%7C%7C%7C8227.221%7CPrice%7Cproduct\n",
      "https://www.indiamart.com/proddetail/hego-3-layer-cotton-washable-reusable-with-respirator-face-mask-22440222633.html?pos=64.3&kwd=masks&tags=B%7C%7C%7C%7C8227.221%7CPrice%7Cproduct\n",
      "https://www.indiamart.com/proddetail/face-mask-22280653862.html?pos=65&kwd=masks&tags=A%7C%7C%7C%7C7533.29%7CPrice%7Cproduct\n",
      "https://www.indiamart.com/proddetail/reusable-face-mask-4203655930.html?pos=66&kwd=masks&tags=A%7C%7C%7C%7C7533.29%7CPrice%7Cproxy\n",
      "https://www.indiamart.com/proddetail/silk-india-maroon-washable-face-mask-in-mumbai-number-of-layers-2-layers-15982121130.html?pos=66.1&kwd=masks&tags=A%7C%7C%7C%7C7533.29%7CPrice%7Cproduct\n",
      "https://www.indiamart.com/proddetail/silk-india-casual-wear-reusable-face-mask-number-of-layers-2-layers-11244991791.html?pos=66.2&kwd=masks&tags=A%7C%7C%7C%7C7533.29%7CPrice%7Cproduct\n",
      "https://www.indiamart.com/proddetail/maroon-reusable-face-mask-number-of-layers-2-layes-9853844762.html?pos=66.3&kwd=masks&tags=A%7C%7C%7C%7C7533.29%7CPrice%7Cproduct\n",
      "https://www.indiamart.com/proddetail/multicolor-custom-embroidered-cotton-face-mask-lab-tested-reusable-number-of-layers-2-or-3-22407275012.html\n",
      "https://www.indiamart.com/proddetail/sublimation-mask-22527781191.html?pos=68&kwd=masks&tags=A%7C%7C%7C%7C7546.9126%7CPrice%7Cproxy\n",
      "https://www.indiamart.com/proddetail/disposable-face-mask-22652468862.html?pos=69&kwd=masks&tags=A%7C%7C%7C%7C8227.221%7C%7Cproxy\n",
      "https://www.indiamart.com/proddetail/disposable-3-ply-surgical-mask-22663228530.html?pos=69.1&kwd=masks&tags=%7C%7C%7C%7C8227.221%7C%7Cproduct\n",
      "https://www.indiamart.com/proddetail/disposable-3-ply-surgical-mask-22663082173.html?pos=69.2&kwd=masks&tags=%7C%7C%7C%7C8227.221%7C%7Cproduct\n",
      "https://www.indiamart.com/proddetail/disposable-3-ply-surgical-mask-22663135262.html?pos=69.3&kwd=masks&tags=%7C%7C%7C%7C8227.221%7C%7Cproduct\n",
      "https://www.indiamart.com/proddetail/3-ply-surgeon-face-mask-22275561462.html?pos=70&kwd=masks&tags=A%7C%7C%7C%7C8248.422%7CPrice%7Cproxy\n",
      "https://www.indiamart.com/proddetail/glemtech-reusable-kn95-face-mask-number-of-layers-5-layers-22329335373.html?pos=70.1&kwd=masks&tags=A%7C%7C%7C%7C8248.422%7CPrice%7Cproduct\n",
      "https://www.indiamart.com/proddetail/free-size-non-disposable-face-shield-22316907430.html?pos=70.2&kwd=masks&tags=%7C%7C%7C%7C8248.422%7CPrice%7Cproduct\n",
      "https://www.indiamart.com/proddetail/kids-face-mask-22257682333.html?pos=71&kwd=masks&tags=A%7C%7C%7C%7C8227.221%7CPrice%7Cproxy\n",
      "https://www.indiamart.com/proddetail/haneesa-reusable-cotton-fabric-face-mask-22576493697.html?pos=71.1&kwd=masks&tags=A%7C%7C%7C%7C8227.221%7C%7Cproduct\n",
      "https://www.indiamart.com/proddetail/haneesa-reusable-cotton-fabric-face-mask-washable-22574378788.html?pos=71.2&kwd=masks&tags=A%7C%7C%7C%7C8227.221%7C%7Cproduct\n",
      "https://www.indiamart.com/proddetail/mix-colour-cotton-fabric-face-mask-washable-22572994248.html?pos=71.3&kwd=masks&tags=A%7C%7C%7C%7C8227.221%7C%7Cproduct\n",
      "https://www.indiamart.com/proddetail/designer-mask-22426238255.html?pos=73&kwd=masks&tags=A%7C%7C%7C%7C8227.221%7CPrice%7Cproduct\n",
      "https://www.indiamart.com/proddetail/n95-mask-22230276791.html?pos=74&kwd=masks&tags=A%7C%7C%7C%7C8227.221%7CPrice%7Cproduct\n",
      "https://www.indiamart.com/proddetail/roadster-reusable-face-mask-22432468648.html?pos=75&kwd=masks&tags=A%7C%7C%7C%7C7614.3447%7CPrice%7Cproxy\n",
      "https://www.indiamart.com/proddetail/scott-sn95-reusable-22271505762.html?pos=76&kwd=masks&tags=A%7C%7C%7C%7C8132.985%7CPrice%7Cproxy\n",
      "https://www.indiamart.com/proddetail/pikmee-reusable-actiguard-ln-95-mask-for-clinic-number-of-layers-three-layer-22304756248.html?pos=76.1&kwd=masks&tags=A%7C%7C%7C%7C8132.985%7CPrice%7Cproduct\n",
      "https://www.indiamart.com/proddetail/black-urban-shield-p95-reusable-mask-type-of-packaging-box-22305547591.html?pos=76.2&kwd=masks&tags=A%7C%7C%7C%7C8132.985%7CPrice%7Cproduct\n",
      "https://www.indiamart.com/proddetail/hand-sanitizer-pen-black-3-in-1-reusable-face-mask-22474333833.html?pos=76.3&kwd=masks&tags=A%7C%7C%7C%7C8132.985%7CPrice%7Cproduct\n",
      "https://www.indiamart.com/proddetail/cloth-face-mask-22379820288.html?pos=77&kwd=masks&tags=A%7C%7C%7C%7C7533.29%7CPrice%7Cproxy\n",
      "https://www.indiamart.com/proddetail/designer-mask-22361887033.html?pos=78&kwd=masks&tags=A%7C%7C%7C%7C7813.475%7C%7Cproxy\n",
      "https://www.indiamart.com/proddetail/face-mask-with-respirator-kn95-22401736662.html?pos=79&kwd=masks&tags=A%7C%7C%7C%7C7533.29%7CPrice%7Cproxy\n",
      "https://www.indiamart.com/proddetail/hora-reusable-kn-95-face-mask-certification-iso-ce-number-of-layers-5-layers-22569953812.html?pos=79.1&kwd=masks&tags=A%7C%7C%7C%7C7533.29%7CPrice%7Cproduct\n",
      "https://www.indiamart.com/proddetail/uv95-face-mask-reusable-face-mask-22494535588.html?pos=80&kwd=masks&tags=A%7C%7C%7C%7C7423.2134%7CPrice%7Cproxy\n",
      "https://www.indiamart.com/proddetail/uv-95-disposable-n95-cup-mask-without-valve-number-of-layers-6-22494578897.html?pos=80.1&kwd=masks&tags=%7C%7C%7C%7C7423.2134%7CPrice%7Cproduct\n",
      "https://www.indiamart.com/proddetail/uv95-reusable-face-mask-certification-ce-iso-22311186455.html?pos=80.2&kwd=masks&tags=B%7C%7C%7C%7C7423.2134%7CPrice%7Cproduct\n",
      "https://www.indiamart.com/proddetail/face-shield-cap-22389954555.html?pos=82&kwd=masks&tags=A%7C%7C%7C%7C7533.29%7CPrice%7Cproxy\n",
      "https://www.indiamart.com/proddetail/kapture-headwear-blue-cotton-cap-with-shield-size-free-22393415012.html?pos=82.1&kwd=masks&tags=%7C%7C%7C%7C7533.29%7CPrice%7Cproduct\n",
      "https://www.indiamart.com/proddetail/2-ply-reusable-cotton-face-mask-22417680788.html?pos=83&kwd=masks&tags=A%7C%7C%7C%7C9120.144%7CPrice%7Cproxy\n",
      "https://www.indiamart.com/proddetail/devoiler-reusable-earloop-mount-cotton-face-mask-22417743462.html?pos=83.1&kwd=masks&tags=B%7C%7C%7C%7C9120.144%7CPrice%7Cproduct\n",
      "https://www.indiamart.com/proddetail/devoiler-reusable-plain-cotton-face-mask-number-of-layers-3-layers-22417666712.html?pos=83.2&kwd=masks&tags=B%7C%7C%7C%7C9120.144%7CPrice%7Cproduct\n",
      "https://www.indiamart.com/proddetail/devoiler-white-3-layers-reusable-cotton-face-mask-certification-ce-iso-certified-22417739955.html?pos=83.3&kwd=masks&tags=B%7C%7C%7C%7C9120.144%7CPrice%7Cproduct\n",
      "https://www.indiamart.com/proddetail/n95-face-mask-22428575088.html?pos=84&kwd=masks&tags=A%7C%7C%7C%7C8227.221%7CPrice%7Cproduct\n",
      "https://www.indiamart.com/proddetail/n95-anti-pollution-face-mask-22276707233.html?pos=85&kwd=masks&tags=A%7C%7C%7C%7C8227.221%7CPrice%7Cproduct\n",
      "https://www.indiamart.com/proddetail/super-g-reusable-n95-valve-face-mask-certification-iso-gmp-22350083330.html?pos=85.1&kwd=masks&tags=A%7C%7C%7C%7C8227.221%7CPrice%7Cproduct\n",
      "https://www.indiamart.com/proddetail/super-g-reusable-n95-kn95-ffp2-respirator-mask-number-of-layers-5-layers-22402986862.html?pos=85.2&kwd=masks&tags=A%7C%7C%7C%7C8227.221%7CPrice%7Cproduct\n",
      "https://www.indiamart.com/proddetail/reusable-face-mask-22349610997.html?pos=86&kwd=masks&tags=A%7C%7C%7C%7C8042.3813%7CPrice%7Cproxy\n",
      "https://www.indiamart.com/proddetail/ladies-home-use-reusable-washable-designer-embroidery-face-mask-22284975488.html?pos=87&kwd=masks&tags=A%7C%7C%7C%7C8227.221%7CPrice%7Cproxy\n",
      "https://www.indiamart.com/proddetail/designer-cotton-face-mask-reusable-washable-number-of-layers-2-4-22284887255.html?pos=87.1&kwd=masks&tags=%7C%7C%7C%7C8227.221%7CPrice%7Cproduct\n",
      "https://www.indiamart.com/proddetail/custom-cotton-face-mask-for-corporate-staff-office-factory-labour-reusable-washable-22284938733.html?pos=87.2&kwd=masks&tags=%7C%7C%7C%7C8227.221%7CPrice%7Cproduct\n",
      "https://www.indiamart.com/proddetail/birl-n95-without-respirator-mask-5-layers-with-2-layers-of-melt-blown-available-with-certificates-22477033697.html?pos=87.3&kwd=masks&tags=A%7C%7C%7C%7C8227.221%7CPrice%7Cproduct\n",
      "https://www.indiamart.com/proddetail/sublimation-mask-22383387212.html?pos=88&kwd=masks&tags=A%7C%7C%7C%7C7613.566%7CPrice%7Cproxy\n",
      "https://www.indiamart.com/proddetail/ladkewale-mask-ladkiwale-mask-wedding-mask-22929091755.html?pos=89&kwd=masks&tags=A%7C%7C%7C%7C9111.004%7CPrice%7Cproxy\n",
      "https://www.indiamart.com/proddetail/resuable-cotton-face-mask-22462786912.html?pos=90&kwd=masks&tags=A%7C%7C%7C%7C7813.475%7CPrice%7Cproxy\n",
      "https://www.indiamart.com/proddetail/black-reusable-resusable-face-mask-number-of-layers-4-22462778688.html?pos=90.1&kwd=masks&tags=A%7C%7C%7C%7C7813.475%7CPrice%7Cproduct\n",
      "https://www.indiamart.com/proddetail/kn95-face-mask-22318313497.html?pos=91&kwd=masks&tags=A%7C%7C%7C%7C7615.4517%7CPrice%7Cproduct\n",
      "https://www.indiamart.com/proddetail/reusable-azvin-n95-face-mask-22530946355.html?pos=91.1&kwd=masks&tags=%7C%7C%7C%7C7615.4517%7CPrice%7Cproduct\n",
      "https://www.indiamart.com/proddetail/hype-designer-face-mask-matching-22400540012.html?pos=92&kwd=masks&tags=A%7C%7C%7C%7C7774.041%7CPrice%7Cproxy\n",
      "https://www.indiamart.com/proddetail/kids-face-mask-n95-number-of-layers-3-layer-22417412630.html?pos=92.1&kwd=masks&tags=%7C%7C%7C%7C7774.041%7CPrice%7Cproduct\n",
      "https://www.indiamart.com/proddetail/hype-reusable-designer-mask-number-of-layers-2-22608939412.html?pos=92.2&kwd=masks&tags=%7C%7C%7C%7C7774.041%7CPrice%7Cproduct\n",
      "https://www.indiamart.com/proddetail/reusable-zaraa-kids-mask-number-of-layers-single-22417393073.html?pos=92.3&kwd=masks&tags=%7C%7C%7C%7C7774.041%7CPrice%7Cproduct\n",
      "https://www.indiamart.com/proddetail/designer-embroidered-face-mask-22355891112.html?pos=93&kwd=masks&tags=A%7C%7C%7C%7C9120.144%7CPrice%7Cproxy\n",
      "https://www.indiamart.com/proddetail/kn95-mask-22559285562.html?pos=94&kwd=masks&tags=A%7C%7C%7C%7C8132.985%7CPrice%7Cproduct\n",
      "https://www.indiamart.com/proddetail/kids-face-mask-22406639688.html?pos=95&kwd=masks&tags=A%7C%7C%7C%7C7533.29%7CPrice%7Cproxy\n",
      "https://www.indiamart.com/proddetail/axon-reusable-face-mask-number-of-layers-6-layer-22369547497.html?pos=95.1&kwd=masks&tags=%7C%7C%7C%7C7533.29%7CPrice%7Cproduct\n",
      "https://www.indiamart.com/proddetail/reusable-kids-face-mask-22350872355.html?pos=95.2&kwd=masks&tags=A%7C%7C%7C%7C7533.29%7CPrice%7Cproduct\n",
      "https://www.indiamart.com/proddetail/n95-face-mask-22237658073.html?pos=97&kwd=masks&tags=A%7C%7C%7C%7C8227.221%7CPrice%7Cproduct\n",
      "https://www.indiamart.com/proddetail/reusable-face-mask-22325966048.html?pos=98&kwd=masks&tags=A%7C%7C%7C%7C8227.221%7CPrice%7Cproxy\n",
      "https://www.indiamart.com/proddetail/ilca-reusable-washable-cotton-mask-multiple-design-for-men-women-and-children-number-of-layers-2-22505388491.html?pos=98.1&kwd=masks&tags=A%7C%7C%7C%7C8227.221%7CPrice%7Cproduct\n",
      "https://www.indiamart.com/proddetail/white-non-woven-sun-million-japanese-n99-certified-mask-for-women-20307410548.html?pos=98.2&kwd=masks&tags=%7C%7C%7C%7C8227.221%7CPrice%7Cproduct\n",
      "https://www.indiamart.com/proddetail/reusable-venus-v4400-n95-mask-noish-certified-mask-22318994797.html?pos=98.3&kwd=masks&tags=A%7C%7C%7C%7C8227.221%7CPrice%7Cproduct\n",
      "https://www.indiamart.com/proddetail/cotton-mask-two-layer-face-mask-22387698830.html?pos=99&kwd=masks&tags=A%7C%7C%7C%7C7614.3447%7CPrice%7Cproxy\n",
      "https://www.indiamart.com/proddetail/two-layer-cotton-face-mask-for-anti-pollution-reusable-medical-and-personal-use-22534633897.html?pos=99.1&kwd=masks&tags=A%7C%7C%7C%7C7614.3447%7CPrice%7Cproduct\n",
      "https://www.indiamart.com/proddetail/hand-stitched-multicolor-two-layer-cotton-face-mask-number-of-layers-2-22379112591.html?pos=99.2&kwd=masks&tags=A%7C%7C%7C%7C7614.3447%7CPrice%7Cproduct\n",
      "https://www.indiamart.com/proddetail/hashtag-eco-reusable-single-layer-cotton-face-mask-number-of-layers-1-22361683288.html?pos=99.3&kwd=masks&tags=A%7C%7C%7C%7C7614.3447%7CPrice%7Cproduct\n",
      "https://www.indiamart.com/proddetail/reusable-g95-mask-22335830073.html?pos=100&kwd=masks&tags=A%7C%7C%7C%7C7867.1333%7CPrice%7Cproxy\n",
      "https://www.indiamart.com/proddetail/reusable-gepack-g95cl3-3-layer-facemask-certification-sitra-22665908788.html?pos=100.1&kwd=masks&tags=%7C%7C%7C%7C7867.1333%7CPrice%7Cproduct\n",
      "https://www.indiamart.com/proddetail/gepack-reusable-bluetooth-mask-certification-sitra-number-of-layers-5-22442486873.html?pos=100.2&kwd=masks&tags=A%7C%7C%7C%7C7867.1333%7CPrice%7Cproduct\n",
      "https://www.indiamart.com/proddetail/face-shield-mask-22484357588.html?pos=100.3&kwd=masks&tags=%7C%7C%7C%7C7867.1333%7CPrice%7Cproduct\n",
      "https://www.indiamart.com/proddetail/n95-mask-with-2-valve-pro-22481186273.html?pos=102&kwd=masks&tags=A%7C%7C%7C%7C7613.566%7CPrice%7Cproduct\n",
      "https://www.indiamart.com/proddetail/medi-max-reusable-n95-respirator-face-mask-with-valve-number-of-layers-5-layer-22261392612.html?pos=102.1&kwd=masks&tags=A%7C%7C%7C%7C7613.566%7CPrice%7Cproduct\n",
      "https://www.indiamart.com/proddetail/premium-n95-versace-gold-drdo-certified-face-mask-with-5-layers-with-headloop-22626910573.html?pos=102.2&kwd=masks&tags=A%7C%7C%7C%7C7613.566%7CPrice%7Cproduct\n",
      "https://www.indiamart.com/proddetail/reusable-medi-max-n95-super-secure-kit-22628412497.html?pos=102.3&kwd=masks&tags=A%7C%7C%7C%7C7613.566%7CPrice%7Cproduct\n",
      "https://www.indiamart.com/proddetail/reusable-and-washable-face-mask-girl-masks-22612361248.html?pos=103&kwd=masks&tags=A%7C%7C%7C%7C7614.3447%7CPrice%7Cproxy\n",
      "https://www.indiamart.com/proddetail/general-purpose-double-layer-3-ply-cotton-face-mask-22962129997.html?pos=104&kwd=masks&tags=A%7C%7C%7C%7C8132.985%7CPrice%7Cproxy\n",
      "https://www.indiamart.com/proddetail/general-purpose-single-layer-3-ply-cotton-face-mask-22962111591.html?pos=104.1&kwd=masks&tags=A%7C%7C%7C%7C8132.985%7CPrice%7Cproduct\n",
      "https://www.indiamart.com/proddetail/general-purpose-single-layer-3-ply-cotton-face-mask-22841127055.html?pos=104.2&kwd=masks&tags=A%7C%7C%7C%7C8132.985%7CPrice%7Cproduct\n",
      "https://www.indiamart.com/proddetail/iswarya-linen-black-general-purpose-double-layer-cotton-face-mask-22841195273.html?pos=104.3&kwd=masks&tags=%7C%7C%7C%7C8132.985%7CPrice%7Cproduct\n",
      "https://www.indiamart.com/proddetail/face-mask-n95-mask-with-respirator-pandemic-masks-22408756248.html?pos=105&kwd=masks&tags=A%7C%7C%7C%7C7584.552%7CPrice%7Cproduct\n",
      "https://www.indiamart.com/proddetail/moon-face-mask-medical-mask-industrial-mask-reusable-mask-disposable-mask-number-of-layers-5-22410580997.html?pos=105.1&kwd=masks&tags=A%7C%7C%7C%7C7584.552%7CPrice%7Cproduct\n",
      "https://www.indiamart.com/proddetail/be-reusable-herbal-mask-ayurvedic-mask-ayurveda-n95-mask-certification-fda-who-gmp-iso-ce-number-of-layers-6-22645670662.html?pos=105.2&kwd=masks&tags=A%7C%7C%7C%7C7584.552%7CPrice%7Cproduct\n",
      "https://www.indiamart.com/proddetail/be-reusable-corona-mask-ayurvedic-mask-n95-ayurveda-mask-certification-fda-who-gmp-iso-ce-number-of-layers-6-22646252173.html?pos=105.3&kwd=masks&tags=A%7C%7C%7C%7C7584.552%7CPrice%7Cproduct\n",
      "https://www.indiamart.com/proddetail/washable-face-mask-22278738648.html?pos=106&kwd=masks&tags=A%7C%7C%7C%7C7584.552%7CPrice%7Cproxy\n",
      "https://www.indiamart.com/proddetail/rachna-art-special-crafted-designs-cotton-face-mask-22278647997.html?pos=106.1&kwd=masks&tags=%7C%7C%7C%7C7584.552%7CPrice%7Cproduct\n",
      "https://www.indiamart.com/proddetail/rachna-art-designer-fashionable-reusable-face-mask-22278756762.html?pos=106.2&kwd=masks&tags=A%7C%7C%7C%7C7584.552%7CPrice%7Cproduct\n",
      "https://www.indiamart.com/proddetail/rachna-disposable-face-mask-certification-isi-ces-number-of-layers-3-22338019930.html?pos=106.3&kwd=masks&tags=%7C%7C%7C%7C7584.552%7CPrice%7Cproduct\n",
      "https://www.indiamart.com/proddetail/embroidered-cotton-mask-22775039412.html?pos=107&kwd=masks&tags=A%7C%7C%7C%7C8248.422%7CPrice%7Cproxy\n",
      "https://www.indiamart.com/proddetail/cotton-masks-22381525188.html?pos=109&kwd=masks&tags=A%7C%7C%7C%7C8227.221%7CPrice%7Cproduct\n",
      "https://www.indiamart.com/proddetail/fibre-world-reusable-face-mask-number-of-layers-two-22440611555.html?pos=109.1&kwd=masks&tags=A%7C%7C%7C%7C8227.221%7CPrice%7Cproduct\n",
      "https://www.indiamart.com/proddetail/n95-5-layers-face-mask-22490329412.html?pos=110&kwd=masks&tags=A%7C%7C%7C%7C7614.3447%7CPrice%7Cproxy\n",
      "https://www.indiamart.com/proddetail/maitrik-reusable-n95-face-mask-certification-fda-number-of-layers-5-layers-22482384112.html?pos=110.1&kwd=masks&tags=A%7C%7C%7C%7C7614.3447%7CPrice%7Cproduct\n",
      "https://www.indiamart.com/proddetail/anti-pollution-cotton-face-mask-reusable-22302591648.html?pos=112&kwd=masks&tags=A%7C%7C%7C%7C7867.1333%7CPrice%7Cproxy\n",
      "https://www.indiamart.com/proddetail/printed-cotton-men-s-face-mask-double-layer-22361826062.html?pos=112.1&kwd=masks&tags=B%7C%7C%7C%7C7867.1333%7CPrice%7Cproduct\n",
      "https://www.indiamart.com/proddetail/kids-cotton-double-layered-mask-22606183848.html?pos=112.2&kwd=masks&tags=%7C%7C%7C%7C7867.1333%7CPrice%7Cproduct\n",
      "https://www.indiamart.com/proddetail/double-layer-cotton-mask-22971753233.html?pos=112.3&kwd=masks&tags=%7C%7C%7C%7C7867.1333%7CPrice%7Cproduct\n",
      "https://www.indiamart.com/proddetail/kids-cotton-face-mask-22408575591.html?pos=113&kwd=masks&tags=A%7C%7C%7C%7C7867.1333%7CPrice%7Cproxy\n",
      "https://www.indiamart.com/proddetail/n-collection-reusable-5-layer-cotton-face-mask-22408606262.html?pos=113.1&kwd=masks&tags=A%7C%7C%7C%7C7867.1333%7CPrice%7Cproduct\n",
      "https://www.indiamart.com/proddetail/reusable-2-ply-cotton-face-mask-22408586488.html?pos=113.2&kwd=masks&tags=%7C%7C%7C%7C7867.1333%7C%7Cproduct\n",
      "https://www.indiamart.com/proddetail/n-collection-reusable-black-cotton-face-mask-number-of-layers-3-layers-22408610230.html?pos=113.3&kwd=masks&tags=A%7C%7C%7C%7C7867.1333%7C%7Cproduct\n",
      "https://www.indiamart.com/proddetail/golden-touch-reusable-face-mask-22264642248.html?pos=114&kwd=masks&tags=A%7C%7C%7C%7C7867.1333%7CPrice%7Cproxy\n",
      "https://www.indiamart.com/proddetail/mubee-printed-omega-pink-reusable-face-mask-number-of-layers-2-22264647891.html?pos=114.1&kwd=masks&tags=B%7C%7C%7C%7C7867.1333%7CPrice%7Cproduct\n",
      "https://www.indiamart.com/proddetail/mubee-printed-elegant-pink-reusable-face-mask-number-of-layers-2-22264642973.html?pos=114.2&kwd=masks&tags=B%7C%7C%7C%7C7867.1333%7CPrice%7Cproduct\n",
      "https://www.indiamart.com/proddetail/mubee-white-fox-reusable-washable-2ply-protective-cotton-mask-22484871997.html?pos=114.3&kwd=masks&tags=B%7C%7C%7C%7C7867.1333%7CPrice%7Cproduct\n",
      "https://www.indiamart.com/proddetail/resprirator-mask-22422859062.html?pos=116&kwd=masks&tags=A%7C%7C%7C%7C8227.221%7CPrice%7Cproduct\n",
      "https://www.indiamart.com/proddetail/still-disposable-face-mask-number-of-layers-5-22443792191.html?pos=116.1&kwd=masks&tags=A%7C%7C%7C%7C8227.221%7CPrice%7Cproduct\n",
      "https://www.indiamart.com/proddetail/printed-cotton-facemask-22942172788.html?pos=117&kwd=masks&tags=A%7C%7C%7C%7C7533.29%7CPrice%7Cproxy\n",
      "https://www.indiamart.com/proddetail/reusable-cotton-face-mask-number-of-layers-2-22454425030.html?pos=117.1&kwd=masks&tags=A%7C%7C%7C%7C7533.29%7CPrice%7Cproduct\n",
      "https://www.indiamart.com/proddetail/shreeji-reusable-kids-face-mask-number-of-layers-2-22942098273.html?pos=117.2&kwd=masks&tags=%7C%7C%7C%7C7533.29%7CPrice%7Cproduct\n",
      "https://www.indiamart.com/proddetail/shreeji-reusable-wedding-face-mask-number-of-layers-2-22942057712.html?pos=117.3&kwd=masks&tags=%7C%7C%7C%7C7533.29%7CPrice%7Cproduct\n",
      "https://www.indiamart.com/proddetail/n95-mask-22245214473.html?pos=119&kwd=masks&tags=A%7C%7C%7C%7C7613.566%7CPrice%7Cproduct\n",
      "https://www.indiamart.com/proddetail/kn95-mask-22383543955.html?pos=120&kwd=masks&tags=A%7C%7C%7C%7C8227.221%7CPrice%7Cproxy\n",
      "https://www.indiamart.com/proddetail/medi-surg-disposable-3-ply-face-mask-22586178588.html?pos=120.1&kwd=masks&tags=%7C%7C%7C%7C8227.221%7CPrice%7Cproduct\n",
      "https://www.indiamart.com/proddetail/craftx-reusable-head-tie-mask-22443552555.html?pos=121&kwd=masks&tags=A%7C%7C%7C%7C8227.221%7CPrice%7Cproxy\n",
      "https://www.indiamart.com/proddetail/craftx-reusable-printed-face-mask-number-of-layers-5-22671487030.html?pos=121.1&kwd=masks&tags=%7C%7C%7C%7C8227.221%7CPrice%7Cproduct\n",
      "https://www.indiamart.com/proddetail/multiple-color-reusable-craftx-cotton-facemask-number-of-layers-2-22653165712.html?pos=121.2&kwd=masks&tags=A%7C%7C%7C%7C8227.221%7CPrice%7Cproduct\n",
      "https://www.indiamart.com/proddetail/craftx-cotton-face-mask-21835013712.html?pos=121.3&kwd=masks&tags=A%7C%7C%7C%7C8227.221%7CPrice%7Cproduct\n",
      "https://www.indiamart.com/proddetail/face-mask-22380631230.html?pos=122&kwd=masks&tags=A%7C%7C%7C%7C8227.221%7CPrice%7Cproduct\n",
      "https://www.indiamart.com/proddetail/multi-color-kids-masks-22336321112.html?pos=123&kwd=masks&tags=A%7C%7C%7C%7C8227.221%7CPrice%7Cproxy\n",
      "https://www.indiamart.com/proddetail/n95-mask-22389976388.html?pos=124&kwd=masks&tags=A%7C%7C%7C%7C7867.1333%7CPrice%7Cproduct\n",
      "https://www.indiamart.com/proddetail/reusable-kn95-face-mask-22389830648.html?pos=124.1&kwd=masks&tags=A%7C%7C%7C%7C7867.1333%7CPrice%7Cproduct\n",
      "https://www.indiamart.com/proddetail/wildcraft-face-mask-22504510433.html?pos=125&kwd=masks&tags=A%7C%7C%7C%7C8227.221%7CPrice%7Cproxy\n",
      "https://www.indiamart.com/proddetail/venus-v4400-n95-face-mask-number-of-layers-6-22318815397.html?pos=125.1&kwd=masks&tags=%7C%7C%7C%7C8227.221%7CPrice%7Cproduct\n",
      "https://www.indiamart.com/proddetail/reusable-kn95-respirator-mask-number-of-layers-5-layers-22350669333.html?pos=125.2&kwd=masks&tags=B%7C%7C%7C%7C8227.221%7CPrice%7Cproduct\n",
      "https://www.indiamart.com/proddetail/reusable-kn95-face-mask-22392633348.html?pos=125.3&kwd=masks&tags=B%7C%7C%7C%7C8227.221%7CPrice%7Cproduct\n",
      "https://www.indiamart.com/proddetail/ultrarmour-anti-virus-reusable-face-mask-22324308488.html?pos=126&kwd=masks&tags=A%7C%7C%7C%7C7533.29%7CPrice%7Cproxy\n",
      "https://www.indiamart.com/proddetail/harissons-anti-virus-reusable-face-mask-certification-sitra-number-of-layers-7-22340043097.html?pos=126.1&kwd=masks&tags=A%7C%7C%7C%7C7533.29%7CPrice%7Cproduct\n",
      "https://www.indiamart.com/proddetail/reusable-cotton-face-mask-high-quality-luxury-customized-mask-22939252888.html?pos=127&kwd=masks&tags=A%7C%7C%7C%7C8258.9375%7CPrice%7Cproduct\n",
      "https://www.indiamart.com/proddetail/kuri-kawaii-multicolor-reusable-cotton-face-mask-high-quality-international-designed-mask-number-of-layers-3-layers-22939261048.html?pos=127.1&kwd=masks&tags=A%7C%7C%7C%7C8258.9375%7CPrice%7Cproduct\n",
      "https://www.indiamart.com/proddetail/reusable-cotton-reusable-face-mask-with-customized-logo-22939200788.html?pos=127.2&kwd=masks&tags=A%7C%7C%7C%7C8258.9375%7CPrice%7Cproduct\n",
      "https://www.indiamart.com/proddetail/face-mask-22339774712.html?pos=128&kwd=masks&tags=A%7C%7C%7C%7C8271.05%7CPrice%7Cproduct\n",
      "https://www.indiamart.com/proddetail/n95-mask-22459562797.html?pos=129&kwd=masks&tags=A%7C%7C%7C%7C7867.1333%7CPrice%7Cproduct\n",
      "https://www.indiamart.com/proddetail/soft-designer-cotton-mask-22377487948.html?pos=130&kwd=masks&tags=A%7C%7C%7C%7C8132.985%7CPrice%7Cproxy\n",
      "https://www.indiamart.com/proddetail/v-shield-grey-yellow-n95-without-respirator-niosh-certified-face-mask-22492138088.html?pos=131&kwd=masks&tags=A%7C%7C%7C%7C8227.221%7CPrice%7Cproxy\n",
      "https://www.indiamart.com/proddetail/v-shield-pink-mint-green-n95-without-respirator-niosh-certified-face-mask-22492166155.html?pos=131.1&kwd=masks&tags=A%7C%7C%7C%7C8227.221%7CPrice%7Cproduct\n",
      "https://www.indiamart.com/proddetail/reusable-v-shield-n95-face-mask-isi-without-valve-certification-bis-certified-22355782288.html?pos=131.2&kwd=masks&tags=A%7C%7C%7C%7C8227.221%7CPrice%7Cproduct\n",
      "https://www.indiamart.com/proddetail/v-shield-pink-white-grey-n95-without-respirator-niosh-certified-face-mask-22492179997.html?pos=131.3&kwd=masks&tags=A%7C%7C%7C%7C8227.221%7CPrice%7Cproduct\n",
      "https://www.indiamart.com/proddetail/kn-95-mask-22361932030.html?pos=132&kwd=masks&tags=A%7C%7C%7C%7C9120.144%7CPrice%7Cproduct\n",
      "https://www.indiamart.com/proddetail/vision-media-disposable-n95-mask-certification-iso-ce-certified-number-of-layers-5-layer-22393110488.html?pos=132.1&kwd=masks&tags=A%7C%7C%7C%7C9120.144%7CPrice%7Cproduct\n",
      "https://www.indiamart.com/proddetail/n95-face-mask-22589675655.html?pos=133&kwd=masks&tags=A%7C%7C%7C%7C7774.041%7CPrice%7Cproxy\n",
      "https://www.indiamart.com/proddetail/pronto-reusable-face-mask-number-of-layers-6-22589705697.html?pos=133.1&kwd=masks&tags=A%7C%7C%7C%7C7774.041%7CPrice%7Cproduct\n",
      "https://www.indiamart.com/proddetail/k-f-94-mask-22550858762.html?pos=135&kwd=masks&tags=A%7C%7C%7C%7C8227.221%7CPrice%7Cproduct\n",
      "https://www.indiamart.com/proddetail/3i-focus-reusable-kf94-face-mask-certification-iso-ce-gmp-number-of-layers-3-5-22592343873.html?pos=135.1&kwd=masks&tags=A%7C%7C%7C%7C8227.221%7CPrice%7Cproduct\n",
      "https://www.indiamart.com/proddetail/reusable-3i-focus-mask-number-of-layers-3-5-22550850030.html?pos=135.2&kwd=masks&tags=A%7C%7C%7C%7C8227.221%7CPrice%7Cproduct\n",
      "https://www.indiamart.com/proddetail/n95-face-mask-22590121488.html?pos=136&kwd=masks&tags=A%7C%7C%7C%7C7546.9126%7C%7Cproduct\n",
      "https://www.indiamart.com/proddetail/pure-cotton-mask-22337578048.html?pos=137&kwd=masks&tags=A%7C%7C%7C%7C7867.1333%7C%7Cproduct\n",
      "https://www.indiamart.com/proddetail/n95-respirator-mask-22388917512.html?pos=138&kwd=masks&tags=A%7C%7C%7C%7C8227.221%7CPrice%7Cproduct\n",
      "https://www.indiamart.com/proddetail/vest-medicare-reusable-kn95-face-mask-certification-fda-ce-iso-gmp-22388894355.html?pos=138.1&kwd=masks&tags=A%7C%7C%7C%7C8227.221%7CPrice%7Cproduct\n",
      "https://www.indiamart.com/proddetail/reversible-cotton-printed-face-mask-22557260191.html?pos=139&kwd=masks&tags=A%7C%7C%7C%7C9120.144%7CPrice%7Cproxy\n",
      "https://www.indiamart.com/proddetail/trident-cotton-reusable-3-ply-face-mask-22225957030.html?pos=139.1&kwd=masks&tags=%7C%7C%7C%7C9120.144%7CPrice%7Cproduct\n",
      "https://www.indiamart.com/proddetail/trident-reusable-kids-face-mask-number-of-layers-3-ply-22683104433.html?pos=139.2&kwd=masks&tags=%7C%7C%7C%7C9120.144%7CPrice%7Cproduct\n",
      "https://www.indiamart.com/proddetail/bluetooth-mask-22490397255.html?pos=140&kwd=masks&tags=A%7C%7C%7C%7C8227.221%7CPrice%7Cproxy\n",
      "https://www.indiamart.com/proddetail/cotton-face-mask-22320693697.html?pos=141&kwd=masks&tags=A%7C%7C%7C%7C8227.221%7CPrice%7Cproxy\n",
      "https://www.indiamart.com/proddetail/customized-cotton-face-mask-22612533062.html?pos=141.1&kwd=masks&tags=A%7C%7C%7C%7C8227.221%7CPrice%7Cproduct\n"
     ]
    }
   ],
   "source": [
    "elems = driver.find_elements_by_xpath(\"//a[contains(@class,'mDb')]\")\n",
    "lnks = []\n",
    "\n",
    "for i in elems:\n",
    "    l = i.get_attribute(\"href\")\n",
    "    print(l)\n",
    "    lnks.append(l)"
   ]
  },
  {
   "cell_type": "markdown",
   "metadata": {},
   "source": [
    "# The list of links will be printed."
   ]
  },
  {
   "cell_type": "code",
   "execution_count": 53,
   "metadata": {
    "scrolled": false
   },
   "outputs": [
    {
     "data": {
      "text/plain": [
       "317"
      ]
     },
     "execution_count": 53,
     "metadata": {},
     "output_type": "execute_result"
    }
   ],
   "source": [
    "len(lnks) #check the total no. of links generated"
   ]
  },
  {
   "cell_type": "code",
   "execution_count": 65,
   "metadata": {},
   "outputs": [],
   "source": [
    "Links = pd.DataFrame(lnks)"
   ]
  },
  {
   "cell_type": "markdown",
   "metadata": {},
   "source": [
    "# Part 3"
   ]
  },
  {
   "cell_type": "markdown",
   "metadata": {},
   "source": [
    "## Save results in excel file"
   ]
  },
  {
   "cell_type": "markdown",
   "metadata": {},
   "source": [
    "### Enter the directory you want to save in below line"
   ]
  },
  {
   "cell_type": "code",
   "execution_count": 70,
   "metadata": {},
   "outputs": [],
   "source": [
    "os.chdir(\"C:/Users/Deepanshu/Downloads\")"
   ]
  },
  {
   "cell_type": "code",
   "execution_count": 71,
   "metadata": {},
   "outputs": [],
   "source": [
    "writer = pd.ExcelWriter('Udaan links.xlsx', engine='xlsxwriter')"
   ]
  },
  {
   "cell_type": "code",
   "execution_count": 72,
   "metadata": {},
   "outputs": [],
   "source": [
    "Links.to_excel(writer, sheet_name='Links')"
   ]
  },
  {
   "cell_type": "code",
   "execution_count": 73,
   "metadata": {},
   "outputs": [],
   "source": [
    "writer.save()"
   ]
  },
  {
   "cell_type": "code",
   "execution_count": null,
   "metadata": {},
   "outputs": [],
   "source": []
  }
 ],
 "metadata": {
  "kernelspec": {
   "display_name": "Python 3",
   "language": "python",
   "name": "python3"
  },
  "language_info": {
   "codemirror_mode": {
    "name": "ipython",
    "version": 3
   },
   "file_extension": ".py",
   "mimetype": "text/x-python",
   "name": "python",
   "nbconvert_exporter": "python",
   "pygments_lexer": "ipython3",
   "version": "3.7.6"
  }
 },
 "nbformat": 4,
 "nbformat_minor": 4
}
